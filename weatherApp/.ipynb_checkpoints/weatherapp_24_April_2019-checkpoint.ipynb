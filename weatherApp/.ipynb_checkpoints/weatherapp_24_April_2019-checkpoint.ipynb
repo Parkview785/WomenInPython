{
 "cells": [
  {
   "cell_type": "markdown",
   "metadata": {},
   "source": [
    "# Lets build a weather app"
   ]
  },
  {
   "cell_type": "markdown",
   "metadata": {},
   "source": [
    "How to get current weather of a city? Check this link : https://openweathermap.org/current"
   ]
  },
  {
   "cell_type": "markdown",
   "metadata": {},
   "source": [
    "Signup to get your own API key or use this for the class : bc4177261288e5a33a1011e923aeee10"
   ]
  },
  {
   "cell_type": "markdown",
   "metadata": {},
   "source": [
    "Your task is to create an app which shows the current weather and current temperature(current, maximum and minium) and also tell the user if he needs to take an umbrella today when he is going out."
   ]
  },
  {
   "cell_type": "code",
   "execution_count": 29,
   "metadata": {},
   "outputs": [
    {
     "name": "stdout",
     "output_type": "stream",
     "text": [
      "New York\n"
     ]
    }
   ],
   "source": [
    "import requests\n",
    "import json\n",
    "\n",
    "res = requests.get('https://api.openweathermap.org/data/2.5/weather?q=New York&units=metric&appid=bc4177261288e5a33a1011e923aeee10')\n",
    "jsonobj = json.loads(res.content)\n",
    "print(jsonobj['name'])"
   ]
  },
  {
   "cell_type": "markdown",
   "metadata": {},
   "source": [
    "## Tools we need .."
   ]
  },
  {
   "cell_type": "markdown",
   "metadata": {},
   "source": [
    "### Lists: Lists are sequence of variables. They can contain any type of variable, and they can contain as many variables as you wish"
   ]
  },
  {
   "cell_type": "code",
   "execution_count": null,
   "metadata": {},
   "outputs": [],
   "source": [
    "mylist = []\n",
    "mylist.append(1)\n",
    "mylist.append('akshay')\n",
    "mylist.append(3)\n",
    "print(mylist[0]) # prints 1\n",
    "print(mylist[1]) # prints 2\n",
    "print(mylist[2]) # prints 3"
   ]
  },
  {
   "cell_type": "code",
   "execution_count": null,
   "metadata": {},
   "outputs": [],
   "source": [
    "#### Index always starts from 0\n",
    "mylist2 = ['a','b','c']\n",
    "print(mylist2[3])"
   ]
  },
  {
   "cell_type": "markdown",
   "metadata": {},
   "source": [
    "### Dictionaries : Keys and Values"
   ]
  },
  {
   "cell_type": "markdown",
   "metadata": {},
   "source": [
    "Dictionaries are declared by {} ,curly brackets . Remember lists are decalared using []"
   ]
  },
  {
   "cell_type": "code",
   "execution_count": null,
   "metadata": {},
   "outputs": [],
   "source": [
    "# empty Dictionary\n",
    "person = {}\n",
    "\n",
    "person['name'] = 'Akshay'\n",
    "person['age'] = 29\n",
    "person['job'] = 'engineer'\n",
    "\n",
    "print(person['name'])\n",
    "print(person['age'])\n",
    "print(person['job'])"
   ]
  },
  {
   "cell_type": "markdown",
   "metadata": {},
   "source": [
    "### If statement:"
   ]
  },
  {
   "cell_type": "code",
   "execution_count": null,
   "metadata": {},
   "outputs": [],
   "source": [
    "x = 1\n",
    "if x == 1:\n",
    "    print(\"Shenzhen is in china\")\n",
    "    print(\"China is in Asia\")"
   ]
  },
  {
   "cell_type": "markdown",
   "metadata": {},
   "source": [
    "### Functions"
   ]
  },
  {
   "cell_type": "code",
   "execution_count": null,
   "metadata": {},
   "outputs": [],
   "source": [
    "def call_adele():\n",
    "    print(\"Hello from the other side....\")\n",
    "\n",
    "def getFullName(firstname, lastname):\n",
    "    return firstname +\" \"+ lastname\n",
    "\n",
    "call_adele()\n",
    "\n",
    "fullname = getFullName(\"Akshay\",\"Vernekar\")\n",
    "print(fullname)"
   ]
  },
  {
   "cell_type": "markdown",
   "metadata": {},
   "source": [
    "### Classes"
   ]
  },
  {
   "cell_type": "code",
   "execution_count": 4,
   "metadata": {},
   "outputs": [],
   "source": [
    "class Person(object):\n",
    "    def __init__(self,per_name,per_age,per_job):\n",
    "        self.name = per_name\n",
    "        self.age = per_age\n",
    "        self.job =  per_job\n",
    "    \n",
    "    def getName(self):\n",
    "        return self.name\n",
    "    \n",
    "man1 = Person('Akshay',29,'engineer')\n",
    "man2 = Person('Claire',22,'buisness woman')\n",
    "\n",
    "print(man1.getName())\n",
    "print(man2.getName())"
   ]
  },
  {
   "cell_type": "markdown",
   "metadata": {},
   "source": [
    "## Lets build the weather app"
   ]
  },
  {
   "cell_type": "code",
   "execution_count": null,
   "metadata": {},
   "outputs": [],
   "source": []
  }
 ],
 "metadata": {
  "kernelspec": {
   "display_name": "Python 3",
   "language": "python",
   "name": "python3"
  },
  "language_info": {
   "codemirror_mode": {
    "name": "ipython",
    "version": 3
   },
   "file_extension": ".py",
   "mimetype": "text/x-python",
   "name": "python",
   "nbconvert_exporter": "python",
   "pygments_lexer": "ipython3",
   "version": "3.7.1"
  }
 },
 "nbformat": 4,
 "nbformat_minor": 2
}
