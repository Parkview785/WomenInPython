{
 "cells": [
  {
   "cell_type": "markdown",
   "metadata": {},
   "source": [
    "# Yeah, we finally gonna see some basics!\n",
    "\n",
    "### We will learn:\n",
    "\n",
    "#### 1. The difference between strings and numbers.\n",
    "#### 2. How use lists, arrays, and dictionaries.\n",
    "#### 3. Basic math using numpy.\n",
    "#### 4. Create a data frame using Pandas."
   ]
  },
  {
   "cell_type": "code",
   "execution_count": null,
   "metadata": {},
   "outputs": [],
   "source": [
    "!python --version"
   ]
  },
  {
   "cell_type": "markdown",
   "metadata": {},
   "source": [
    "#### Let's start off with importing the packages we need. What should you do then?"
   ]
  },
  {
   "cell_type": "code",
   "execution_count": null,
   "metadata": {},
   "outputs": [],
   "source": [
    "# replace XXXXX with the name of the package and XX with the alias you want to use.\n",
    "import XXXXX as XX\n",
    "import XXXXX as XX"
   ]
  },
  {
   "cell_type": "markdown",
   "metadata": {},
   "source": [
    "### Strings\n",
    "#### Strings are bits of text. They can be defined as anything between quotes"
   ]
  },
  {
   "cell_type": "code",
   "execution_count": 2,
   "metadata": {},
   "outputs": [
    {
     "name": "stdout",
     "output_type": "stream",
     "text": [
      "hello world!\n"
     ]
    }
   ],
   "source": [
    "print(\"hello world!\")"
   ]
  },
  {
   "cell_type": "markdown",
   "metadata": {},
   "source": [
    "#### Let's create a string and store it in a variable called mystring"
   ]
  },
  {
   "cell_type": "code",
   "execution_count": 70,
   "metadata": {},
   "outputs": [
    {
     "name": "stdout",
     "output_type": "stream",
     "text": [
      "<class 'str'>\n",
      "21\n"
     ]
    }
   ],
   "source": [
    "mystring = \"SauloIsTheBestTeacher\"\n",
    "print(type(mystring))\n",
    "print(len(mystring))"
   ]
  },
  {
   "cell_type": "markdown",
   "metadata": {},
   "source": [
    "### Basic Data Types in Python\n",
    "#### int -> Integers\n",
    "#### float -> Floating-Point Numbers.\n",
    "#### complex -> Complex Numbers.\n",
    "#### str -> Strings.\n",
    "#### bool -> Boolean."
   ]
  },
  {
   "cell_type": "markdown",
   "metadata": {},
   "source": [
    "#### Slicing strings"
   ]
  },
  {
   "cell_type": "code",
   "execution_count": 82,
   "metadata": {},
   "outputs": [
    {
     "name": "stdout",
     "output_type": "stream",
     "text": [
      "S\n",
      "r\n",
      "Saulo\n",
      "Teacher\n"
     ]
    }
   ],
   "source": [
    "print(mystring[0]) # first\n",
    "print(mystring[-1]) # last\n",
    "print(mystring[:5]) # first 5\n",
    "print(mystring[-7:]) # last 6 (6+1)???"
   ]
  },
  {
   "cell_type": "markdown",
   "metadata": {},
   "source": [
    "#### Manipulating"
   ]
  },
  {
   "cell_type": "code",
   "execution_count": 83,
   "metadata": {},
   "outputs": [
    {
     "name": "stdout",
     "output_type": "stream",
     "text": [
      "SauloIsNotTheBestTeacher\n"
     ]
    }
   ],
   "source": [
    "addstring = \"Not\"\n",
    "newstring = mystring[:7] + addstring + mystring[7:] # concatenating\n",
    "print(newstring)"
   ]
  },
  {
   "cell_type": "code",
   "execution_count": 84,
   "metadata": {},
   "outputs": [
    {
     "name": "stdout",
     "output_type": "stream",
     "text": [
      "24\n",
      "23\n"
     ]
    }
   ],
   "source": [
    "print(len(newstring))\n",
    "print(newstring.index('r'))"
   ]
  },
  {
   "cell_type": "code",
   "execution_count": 85,
   "metadata": {},
   "outputs": [
    {
     "name": "stdout",
     "output_type": "stream",
     "text": [
      "S a u l o I s N o t T h e B e s t T e a c h e r\n",
      "S_a_u_l_o_I_s_N_o_t_T_h_e_B_e_s_t_T_e_a_c_h_e_r\n"
     ]
    }
   ],
   "source": [
    "print(\" \".join(newstring))\n",
    "print(\"_\".join(newstring))"
   ]
  },
  {
   "cell_type": "code",
   "execution_count": 86,
   "metadata": {},
   "outputs": [
    {
     "name": "stdout",
     "output_type": "stream",
     "text": [
      "sauloisnotthebestteacher\n",
      "SAULOISNOTTHEBESTTEACHER\n"
     ]
    }
   ],
   "source": [
    "print(newstring.lower())\n",
    "print(newstring.upper())"
   ]
  },
  {
   "cell_type": "code",
   "execution_count": 89,
   "metadata": {},
   "outputs": [
    {
     "name": "stdout",
     "output_type": "stream",
     "text": [
      "<class 'bool'>\n",
      "True\n"
     ]
    }
   ],
   "source": [
    "checkvalue = newstring.startswith('S') # case sensitive\n",
    "print(type(checkvalue))\n",
    "print(checkvalue)"
   ]
  },
  {
   "cell_type": "markdown",
   "metadata": {},
   "source": [
    "#### Next we are going to learn what a list is and how to use loops in Python"
   ]
  },
  {
   "cell_type": "code",
   "execution_count": 76,
   "metadata": {},
   "outputs": [
    {
     "name": "stdout",
     "output_type": "stream",
     "text": [
      "word:  Saulo\n",
      "i, cc =  5 , 0\n",
      "word:  Is\n",
      "i, cc =  2 , 5\n",
      "word:  Not\n",
      "i, cc =  3 , 7\n",
      "word:  The\n",
      "i, cc =  3 , 10\n",
      "word:  Best\n",
      "i, cc =  4 , 13\n",
      "word:  Teacher\n",
      "i, cc =  7 , 17\n"
     ]
    }
   ],
   "source": [
    "wordslength = [5, 2, 3, 3, 4, 7] # this is a list\n",
    "\n",
    "cc = 0\n",
    "for i in wordslength: # here starts our loop\n",
    "    print('word: ',newstring[cc:i+cc])\n",
    "    print('i, cc = ',i,',',cc)\n",
    "    cc += i"
   ]
  },
  {
   "cell_type": "markdown",
   "metadata": {},
   "source": [
    "### - Lists are what they seem - a list of values. \n",
    "##### Each one of them is numbered, starting from zero - \n",
    "##### the first one is numbered zero, the second 1, the third 2, etc. You can remove values from the list, \n",
    "##### and add new values to the end. Example: Your many cats' names.\n",
    "\n",
    "### - Tuples are just like lists, but you can't change their values.\n",
    "##### The values that you give it first up, \n",
    "##### are the values that you are stuck with for the rest of the program. Again, each value is numbered starting from zero, \n",
    "##### for easy reference. Example: the names of the months of the year.\n",
    "\n",
    "### - Dictionaries are similar to what their name suggests - a dictionary. \n",
    "##### In a dictionary, you have an 'index' of words, and for each of them a definition. \n",
    "##### In python, the word is called a 'key', and the definition a 'value'.\n",
    "##### The values in a dictionary aren't numbered - tare similar to what their name suggests - a dictionary. \n",
    "##### In a dictionary, you have an 'index' of words, and for each of them a definition. \n",
    "##### In python, the word is called a 'key', and the definition a 'value'. \n",
    "##### The values in a dictionary aren't numbered - they aren't in any specific order, either - the key does the same thing. \n",
    "##### You can add, remove, and modify the values in dictionaries. Example: telephone book.\n",
    "\n",
    "### - An array is a data structure that stores values of same data type. \n",
    "##### In Python, this is the main difference between arrays and lists. While python lists can contain values corresponding to \n",
    "##### different data types, arrays in python can only contain values corresponding to same data type."
   ]
  },
  {
   "cell_type": "markdown",
   "metadata": {},
   "source": [
    "### Numbers\n",
    "#### Number data types store numeric values.\n",
    "#### int (signed integers) − They are often called just integers or ints, are positive or negative whole numbers with no decimal point.\n",
    "#### float (floating point real values) − Also called floats, they represent real numbers and are written with a decimal point dividing the integer and fractional parts. Floats may also be in scientific notation, with E or e indicating the power of 10 (2.5e2 = 2.5 x 102 = 250)."
   ]
  },
  {
   "cell_type": "code",
   "execution_count": 95,
   "metadata": {},
   "outputs": [
    {
     "name": "stdout",
     "output_type": "stream",
     "text": [
      "<class 'int'> <class 'float'>\n"
     ]
    }
   ],
   "source": [
    "n1 = 100\n",
    "n2 = 100. # note the point here\n",
    "print(type(n1),type(n2))"
   ]
  },
  {
   "cell_type": "code",
   "execution_count": 96,
   "metadata": {},
   "outputs": [
    {
     "name": "stdout",
     "output_type": "stream",
     "text": [
      "100100\n",
      "200\n",
      "200.0\n"
     ]
    }
   ],
   "source": [
    "print('100'+'100')\n",
    "print(100+100)\n",
    "print(100.+100.)"
   ]
  },
  {
   "cell_type": "code",
   "execution_count": 151,
   "metadata": {},
   "outputs": [
    {
     "name": "stdout",
     "output_type": "stream",
     "text": [
      "[[ 1  2  3  4  5]\n",
      " [ 6  7  8  9 10]\n",
      " [11 12 13 14 15]]\n",
      "<class 'numpy.ndarray'>\n"
     ]
    }
   ],
   "source": [
    "my2Darray = np.array( [ [1, 2, 3, 4, 5], [6, 7, 8, 9, 10], [11, 12, 13, 14, 15] ] )\n",
    "print(my2Darray)\n",
    "print(type(my2Darray))"
   ]
  },
  {
   "cell_type": "markdown",
   "metadata": {},
   "source": [
    "#### Basic operations"
   ]
  },
  {
   "cell_type": "code",
   "execution_count": 138,
   "metadata": {},
   "outputs": [
    {
     "name": "stdout",
     "output_type": "stream",
     "text": [
      "[18 21 24 27 30]\n",
      "[15 40 65]\n",
      "120\n"
     ]
    }
   ],
   "source": [
    "print(my2Darray.sum(axis=0)) # axis 0 - rows\n",
    "print(my2Darray.sum(axis=1)) # axis 1 - columns\n",
    "print(my2Darray.sum(axis=(0,1))) "
   ]
  },
  {
   "cell_type": "code",
   "execution_count": 160,
   "metadata": {},
   "outputs": [
    {
     "name": "stdout",
     "output_type": "stream",
     "text": [
      "(3, 5)\n",
      "(5, 3)\n",
      "15\n"
     ]
    }
   ],
   "source": [
    "print(my2Darray.shape) # nrows vs ncol\n",
    "print(my2Darray.T.shape) # transpose \n",
    "print(my2Darray.size) # total number of elements"
   ]
  },
  {
   "cell_type": "code",
   "execution_count": 140,
   "metadata": {},
   "outputs": [
    {
     "name": "stdout",
     "output_type": "stream",
     "text": [
      "(1, 5)\n",
      "(5, 1)\n"
     ]
    }
   ],
   "source": [
    "my1Darray = np.array( [ [-1, -2, -3, -4, -5] ] )\n",
    "\n",
    "print(my1Darray.shape) # nrows vs ncol\n",
    "print(my1Darray.T.shape) # transpose "
   ]
  },
  {
   "cell_type": "code",
   "execution_count": 141,
   "metadata": {},
   "outputs": [
    {
     "name": "stdout",
     "output_type": "stream",
     "text": [
      "[[ 0  0  0  0  0]\n",
      " [ 5  5  5  5  5]\n",
      " [10 10 10 10 10]]\n"
     ]
    }
   ],
   "source": [
    "print(my2Darray + my1Darray) "
   ]
  },
  {
   "cell_type": "code",
   "execution_count": 142,
   "metadata": {},
   "outputs": [
    {
     "name": "stdout",
     "output_type": "stream",
     "text": [
      "[[ -55]\n",
      " [-130]\n",
      " [-205]]\n"
     ]
    }
   ],
   "source": [
    "print(my2Darray.dot(my1Darray.T)) # matrix multiplication (dot product)"
   ]
  },
  {
   "cell_type": "markdown",
   "metadata": {},
   "source": [
    "#### Slicing"
   ]
  },
  {
   "cell_type": "code",
   "execution_count": 146,
   "metadata": {},
   "outputs": [
    {
     "name": "stdout",
     "output_type": "stream",
     "text": [
      "[[ 1  2  3  4  5]\n",
      " [ 6  7  8  9 10]\n",
      " [11 12 13 14 15]]\n",
      "1\n",
      "row: first to 1 (second); column: second to last  [[2 3 4 5]]\n"
     ]
    }
   ],
   "source": [
    "print(my2Darray)\n",
    "print(my2Darray[0,0])"
   ]
  },
  {
   "cell_type": "code",
   "execution_count": 149,
   "metadata": {},
   "outputs": [
    {
     "name": "stdout",
     "output_type": "stream",
     "text": [
      "[ 1  6 11]\n",
      "[1 2 3 4 5]\n"
     ]
    }
   ],
   "source": [
    "print(my2Darray[:,0]) # all rows from first column\n",
    "print(my2Darray[0,:]) # all columns from first row"
   ]
  },
  {
   "cell_type": "code",
   "execution_count": 156,
   "metadata": {},
   "outputs": [
    {
     "name": "stdout",
     "output_type": "stream",
     "text": [
      "row: first 2 rows; column: last four columns  [[ 2  3  4  5]\n",
      " [ 7  8  9 10]]\n"
     ]
    }
   ],
   "source": [
    "print('row: first 2 rows; column: last four columns ', my2Darray[:2,1:] )"
   ]
  },
  {
   "cell_type": "code",
   "execution_count": 157,
   "metadata": {},
   "outputs": [
    {
     "name": "stdout",
     "output_type": "stream",
     "text": [
      "[[False False False  True  True]\n",
      " [ True  True  True  True  True]\n",
      " [ True  True  True  True  True]]\n"
     ]
    }
   ],
   "source": [
    "print(my2Darray > 3)"
   ]
  },
  {
   "cell_type": "code",
   "execution_count": 163,
   "metadata": {},
   "outputs": [
    {
     "name": "stdout",
     "output_type": "stream",
     "text": [
      "[[ -2  -4  -6  -8 -10]]\n",
      "[[ 1  4  9 16 25]]\n"
     ]
    }
   ],
   "source": [
    "print(my1Darray*2) # multiply by 2\n",
    "print(my1Darray**2) # to the power 2"
   ]
  },
  {
   "cell_type": "markdown",
   "metadata": {},
   "source": [
    "#### Let's now create a dictionary"
   ]
  },
  {
   "cell_type": "code",
   "execution_count": 174,
   "metadata": {},
   "outputs": [
    {
     "name": "stdout",
     "output_type": "stream",
     "text": [
      "{'name': 'SauloIsTheBestTeacher', 'number': array([[ 1,  2,  3,  4,  5],\n",
      "       [ 6,  7,  8,  9, 10],\n",
      "       [11, 12, 13, 14, 15]])}\n"
     ]
    }
   ],
   "source": [
    "mydict = dict( name=mystring, number=my2Darray )\n",
    "# alternatively\n",
    "# mydict = {'name':mystring,'number':my2Darray}\n",
    "print(mydict)"
   ]
  },
  {
   "cell_type": "code",
   "execution_count": 171,
   "metadata": {},
   "outputs": [
    {
     "name": "stdout",
     "output_type": "stream",
     "text": [
      "dict_keys(['name', 'number'])\n"
     ]
    }
   ],
   "source": [
    "print(mydict.keys())"
   ]
  },
  {
   "cell_type": "code",
   "execution_count": 189,
   "metadata": {},
   "outputs": [
    {
     "name": "stdout",
     "output_type": "stream",
     "text": [
      "{'name': ['Saulo', 'Linda', 'Shabnam'], 'age': [52, 18, 22], 'salary': [100.0, 1000000.0, 2000000.0]}\n"
     ]
    }
   ],
   "source": [
    "mylongdict = dict(name=['Saulo', 'Linda', 'Shabnam'], age=[52, 18, 22], salary=[10.**2,10.**6,10.**6*2])\n",
    "print(mylongdict)"
   ]
  },
  {
   "cell_type": "code",
   "execution_count": 190,
   "metadata": {},
   "outputs": [],
   "source": [
    "df = pd.DataFrame.from_dict(mylongdict)"
   ]
  },
  {
   "cell_type": "code",
   "execution_count": 191,
   "metadata": {},
   "outputs": [
    {
     "data": {
      "text/html": [
       "<div>\n",
       "<style scoped>\n",
       "    .dataframe tbody tr th:only-of-type {\n",
       "        vertical-align: middle;\n",
       "    }\n",
       "\n",
       "    .dataframe tbody tr th {\n",
       "        vertical-align: top;\n",
       "    }\n",
       "\n",
       "    .dataframe thead th {\n",
       "        text-align: right;\n",
       "    }\n",
       "</style>\n",
       "<table border=\"1\" class=\"dataframe\">\n",
       "  <thead>\n",
       "    <tr style=\"text-align: right;\">\n",
       "      <th></th>\n",
       "      <th>name</th>\n",
       "      <th>age</th>\n",
       "      <th>salary</th>\n",
       "    </tr>\n",
       "  </thead>\n",
       "  <tbody>\n",
       "    <tr>\n",
       "      <th>0</th>\n",
       "      <td>Saulo</td>\n",
       "      <td>52</td>\n",
       "      <td>100.0</td>\n",
       "    </tr>\n",
       "    <tr>\n",
       "      <th>1</th>\n",
       "      <td>Linda</td>\n",
       "      <td>18</td>\n",
       "      <td>1000000.0</td>\n",
       "    </tr>\n",
       "    <tr>\n",
       "      <th>2</th>\n",
       "      <td>Shabnam</td>\n",
       "      <td>22</td>\n",
       "      <td>2000000.0</td>\n",
       "    </tr>\n",
       "  </tbody>\n",
       "</table>\n",
       "</div>"
      ],
      "text/plain": [
       "      name  age     salary\n",
       "0    Saulo   52      100.0\n",
       "1    Linda   18  1000000.0\n",
       "2  Shabnam   22  2000000.0"
      ]
     },
     "execution_count": 191,
     "metadata": {},
     "output_type": "execute_result"
    }
   ],
   "source": [
    "df"
   ]
  },
  {
   "cell_type": "code",
   "execution_count": 193,
   "metadata": {},
   "outputs": [
    {
     "data": {
      "text/plain": [
       "<matplotlib.axes._subplots.AxesSubplot at 0x1fce3fb22b0>"
      ]
     },
     "execution_count": 193,
     "metadata": {},
     "output_type": "execute_result"
    },
    {
     "data": {
      "image/png": "[encoded data removed]",
      "text/plain": [
       "<Figure size 432x288 with 1 Axes>"
      ]
     },
     "metadata": {
      "needs_background": "light"
     },
     "output_type": "display_data"
    }
   ],
   "source": [
    "df.plot.bar(x='name',y='salary')"
   ]
  },
  {
   "cell_type": "markdown",
   "metadata": {},
   "source": [
    "List of references:\n",
    "\n",
    "https://www.learnpython.org/en/Basic_String_Operations\n",
    "https://www.tutorialspoint.com/python/python_numbers.htm\n",
    "http://sthurlow.com/python/lesson06/\n",
    "http://cs231n.github.io/python-numpy-tutorial/#numpy-arrays"
   ]
  }
 ],
 "metadata": {
  "kernelspec": {
   "display_name": "Python 3",
   "language": "python",
   "name": "python3"
  },
  "language_info": {
   "codemirror_mode": {
    "name": "ipython",
    "version": 3
   },
   "file_extension": ".py",
   "mimetype": "text/x-python",
   "name": "python",
   "nbconvert_exporter": "python",
   "pygments_lexer": "ipython3",
   "version": "3.7.1"
  }
 },
 "nbformat": 4,
 "nbformat_minor": 2
}
