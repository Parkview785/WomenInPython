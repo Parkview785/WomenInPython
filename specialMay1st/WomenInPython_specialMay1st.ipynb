{
 "cells": [
  {
   "cell_type": "code",
   "execution_count": 1,
   "metadata": {
    "colab": {},
    "colab_type": "code",
    "collapsed": false,
    "deletable": true,
    "editable": true,
    "id": "0I2zRbI3hxWO"
   },
   "outputs": [
    {
     "name": "stdout",
     "output_type": "stream",
     "text": [
      "Hello Women in Python community\n"
     ]
    }
   ],
   "source": [
    "print(\"Hello Women in Python community\")"
   ]
  },
  {
   "cell_type": "markdown",
   "metadata": {
    "deletable": true,
    "editable": true
   },
   "source": [
    "### Women in Python assignment - May 1st\n",
    "#### DEADLINE: May 5th\n",
    "#### Feel free to ask questions in group or search for answers on the Internet.\n",
    "#### We look forward to seeing you next week.\n",
    "#### Aki and Saulo "
   ]
  },
  {
   "cell_type": "markdown",
   "metadata": {
    "deletable": true,
    "editable": true
   },
   "source": [
    "# PART 01"
   ]
  },
  {
   "cell_type": "markdown",
   "metadata": {
    "colab_type": "text",
    "deletable": true,
    "editable": true,
    "id": "CQxQ6E6qiYtJ"
   },
   "source": [
    "**Assignment 01**\n",
    "Create a translator with Python."
   ]
  },
  {
   "cell_type": "markdown",
   "metadata": {
    "colab_type": "text",
    "deletable": true,
    "editable": true,
    "id": "1e_l3Yazjzfi"
   },
   "source": [
    "The idea is to create a function which can translate a word in english to Chinese , just limited words for now ."
   ]
  },
  {
   "cell_type": "markdown",
   "metadata": {
    "colab_type": "text",
    "deletable": true,
    "editable": true,
    "id": "fOrgaVatkavT"
   },
   "source": [
    "1.   Create a list to display the words which you can translate .\n",
    "2.   Create a dictonary which has a definition for the words in the list . Example : {\"water\":\"shui\",\"air\":\"kōngqì\"} etc\n",
    "\n",
    "1.  Create a function called \"translate(word)\" which can return the chinese translation of the word.\n",
    "2.  Finally ask user to enter the word , once user enters the word pass the word to the function and display the translation.\n",
    "\n",
    "\n",
    "\n",
    "\n",
    "\n"
   ]
  },
  {
   "cell_type": "markdown",
   "metadata": {
    "colab_type": "text",
    "deletable": true,
    "editable": true,
    "id": "PQ4y2tUXlpfq"
   },
   "source": [
    "Your program should finally show something like this, below example has only 3 words you can have more:\n",
    "\n",
    "\n",
    "> *Choose one of the words below and I will translate*\n",
    "\n",
    "\n",
    ">  ['water', 'air', 'sun']\n",
    "\n",
    "\n",
    ">*Enter the word:* **sun**\n",
    "\n",
    "\n",
    "> **sun** * in chinese is*  **日rì**\n",
    "\n"
   ]
  },
  {
   "cell_type": "markdown",
   "metadata": {
    "deletable": true,
    "editable": true
   },
   "source": [
    "# PART 02"
   ]
  },
  {
   "cell_type": "markdown",
   "metadata": {
    "colab_type": "text",
    "deletable": true,
    "editable": true,
    "id": "s6_nJAkFs6pu"
   },
   "source": [
    "**Let's review the Weather app class and put the weather data into a Pandas data frame.**"
   ]
  },
  {
   "cell_type": "code",
   "execution_count": 2,
   "metadata": {
    "colab": {
     "base_uri": "https://localhost:8080/",
     "height": 127
    },
    "colab_type": "code",
    "collapsed": false,
    "deletable": true,
    "editable": true,
    "id": "CD2FeGRCh-Ti",
    "outputId": "2581fc93-7a4f-4993-c80d-951947af9638"
   },
   "outputs": [
    {
     "name": "stdout",
     "output_type": "stream",
     "text": [
      "{'coord': {'lon': -43.21, 'lat': -22.91}, 'weather': [{'id': 801, 'main': 'Clouds', 'description': 'few clouds', 'icon': '02n'}], 'base': 'stations', 'main': {'temp': 25.81, 'pressure': 1016, 'humidity': 83, 'temp_min': 24, 'temp_max': 28}, 'visibility': 10000, 'wind': {'speed': 2.1, 'deg': 90}, 'clouds': {'all': 20}, 'dt': 1556331593, 'sys': {'type': 1, 'id': 8429, 'message': 0.0051, 'country': 'BR', 'sunrise': 1556269802, 'sunset': 1556310661}, 'id': 3451190, 'name': 'Rio de Janeiro', 'cod': 200}\n",
      "[{'id': 801, 'main': 'Clouds', 'description': 'few clouds', 'icon': '02n'}]\n",
      "83\n",
      "few clouds\n"
     ]
    },
    {
     "data": {
      "text/plain": [
       "<__main__.weather at 0x19173e43ac8>"
      ]
     },
     "execution_count": 2,
     "metadata": {},
     "output_type": "execute_result"
    }
   ],
   "source": [
    "'''\n",
    "Weather app - bonus\n",
    "'''\n",
    "\n",
    "\n",
    "\n",
    "# From the Weather app class we learned:\n",
    "import requests\n",
    "import json\n",
    "\n",
    "class weather(object):\n",
    "    def __init__(self,mycity):\n",
    "        self.city = mycity\n",
    "        url = 'https://api.openweathermap.org/data/2.5/weather?q='+ mycity +'&units=metric&appid=bc4177261288e5a33a1011e923aeee10'\n",
    "        response = requests.get(url)\n",
    "        jsonobj = json.loads(response.content)\n",
    "        print(jsonobj)\n",
    "        temperature_list = jsonobj['weather']\n",
    "        print(temperature_list)\n",
    "        print(jsonobj['main']['humidity'])\n",
    "        desc = temperature_list[0]['description']\n",
    "        print(desc)\n",
    "        \n",
    "# From this class we can get weather information from any city, for example:\n",
    "weather('Rio de Janeiro') # the best city in the world!"
   ]
  },
  {
   "cell_type": "code",
   "execution_count": 3,
   "metadata": {
    "colab": {},
    "colab_type": "code",
    "collapsed": true,
    "deletable": true,
    "editable": true,
    "id": "xlZkXjpYe-Bq"
   },
   "outputs": [],
   "source": [
    "\n",
    "# We have the data, but the format is not really friendly. Let's improve this?\n",
    "\n",
    "# First let's import Pandas\n",
    "import pandas as pd\n",
    "\n",
    "# We only need the variable jsonobj from our Class. So, let's clean it up a bit:\n",
    "\n",
    "class weather_vr02(object):\n",
    "    def __init__(self,mycity):\n",
    "        self.city  = mycity\n",
    "        url        = 'https://api.openweathermap.org/data/2.5/weather?q='+ mycity +'&units=metric&appid=bc4177261288e5a33a1011e923aeee10'\n",
    "        response   = requests.get(url)\n",
    "        self.data  = json.loads(response.content)\n",
    "      \n",
    "      \n",
    "# Let's check if it is working\n",
    "\n",
    "my_city = weather_vr02('Rio de Janeiro')"
   ]
  },
  {
   "cell_type": "code",
   "execution_count": 4,
   "metadata": {
    "colab": {
     "base_uri": "https://localhost:8080/",
     "height": 449
    },
    "colab_type": "code",
    "collapsed": false,
    "deletable": true,
    "editable": true,
    "id": "sHO0WGj5gW5t",
    "outputId": "125e46fa-266d-4d70-fe3a-aae64e6ee3c8"
   },
   "outputs": [
    {
     "data": {
      "text/plain": [
       "{'coord': {'lon': -43.21, 'lat': -22.91},\n",
       " 'weather': [{'id': 801,\n",
       "   'main': 'Clouds',\n",
       "   'description': 'few clouds',\n",
       "   'icon': '02n'}],\n",
       " 'base': 'stations',\n",
       " 'main': {'temp': 25.81,\n",
       "  'pressure': 1016,\n",
       "  'humidity': 83,\n",
       "  'temp_min': 24,\n",
       "  'temp_max': 28},\n",
       " 'visibility': 10000,\n",
       " 'wind': {'speed': 2.1, 'deg': 90},\n",
       " 'clouds': {'all': 20},\n",
       " 'dt': 1556331593,\n",
       " 'sys': {'type': 1,\n",
       "  'id': 8429,\n",
       "  'message': 0.0051,\n",
       "  'country': 'BR',\n",
       "  'sunrise': 1556269802,\n",
       "  'sunset': 1556310661},\n",
       " 'id': 3451190,\n",
       " 'name': 'Rio de Janeiro',\n",
       " 'cod': 200}"
      ]
     },
     "execution_count": 4,
     "metadata": {},
     "output_type": "execute_result"
    }
   ],
   "source": [
    "my_city.data # That's the weather data from Rio de Janeiro"
   ]
  },
  {
   "cell_type": "code",
   "execution_count": 5,
   "metadata": {
    "colab": {},
    "colab_type": "code",
    "collapsed": true,
    "deletable": true,
    "editable": true,
    "id": "SX_GLsF5iIiA"
   },
   "outputs": [],
   "source": [
    "'''\n",
    "Did you know that Pandas deal with Json?\n",
    "'''\n",
    "\n",
    "df_data = pd.io.json.json_normalize(my_city.data)"
   ]
  },
  {
   "cell_type": "code",
   "execution_count": 6,
   "metadata": {
    "colab": {
     "base_uri": "https://localhost:8080/",
     "height": 197
    },
    "colab_type": "code",
    "collapsed": false,
    "deletable": true,
    "editable": true,
    "id": "UVYSfTOkirx-",
    "outputId": "8b2abeba-a4a5-48a0-c22a-c16933f728e9"
   },
   "outputs": [
    {
     "data": {
      "text/html": [
       "<div>\n",
       "<style scoped>\n",
       "    .dataframe tbody tr th:only-of-type {\n",
       "        vertical-align: middle;\n",
       "    }\n",
       "\n",
       "    .dataframe tbody tr th {\n",
       "        vertical-align: top;\n",
       "    }\n",
       "\n",
       "    .dataframe thead th {\n",
       "        text-align: right;\n",
       "    }\n",
       "</style>\n",
       "<table border=\"1\" class=\"dataframe\">\n",
       "  <thead>\n",
       "    <tr style=\"text-align: right;\">\n",
       "      <th></th>\n",
       "      <th>base</th>\n",
       "      <th>clouds.all</th>\n",
       "      <th>cod</th>\n",
       "      <th>coord.lat</th>\n",
       "      <th>coord.lon</th>\n",
       "      <th>dt</th>\n",
       "      <th>id</th>\n",
       "      <th>main.humidity</th>\n",
       "      <th>main.pressure</th>\n",
       "      <th>main.temp</th>\n",
       "      <th>...</th>\n",
       "      <th>sys.country</th>\n",
       "      <th>sys.id</th>\n",
       "      <th>sys.message</th>\n",
       "      <th>sys.sunrise</th>\n",
       "      <th>sys.sunset</th>\n",
       "      <th>sys.type</th>\n",
       "      <th>visibility</th>\n",
       "      <th>weather</th>\n",
       "      <th>wind.deg</th>\n",
       "      <th>wind.speed</th>\n",
       "    </tr>\n",
       "  </thead>\n",
       "  <tbody>\n",
       "    <tr>\n",
       "      <th>0</th>\n",
       "      <td>stations</td>\n",
       "      <td>20</td>\n",
       "      <td>200</td>\n",
       "      <td>-22.91</td>\n",
       "      <td>-43.21</td>\n",
       "      <td>1556331593</td>\n",
       "      <td>3451190</td>\n",
       "      <td>83</td>\n",
       "      <td>1016</td>\n",
       "      <td>25.81</td>\n",
       "      <td>...</td>\n",
       "      <td>BR</td>\n",
       "      <td>8429</td>\n",
       "      <td>0.0051</td>\n",
       "      <td>1556269802</td>\n",
       "      <td>1556310661</td>\n",
       "      <td>1</td>\n",
       "      <td>10000</td>\n",
       "      <td>[{'id': 801, 'main': 'Clouds', 'description': ...</td>\n",
       "      <td>90</td>\n",
       "      <td>2.1</td>\n",
       "    </tr>\n",
       "  </tbody>\n",
       "</table>\n",
       "<p>1 rows × 23 columns</p>\n",
       "</div>"
      ],
      "text/plain": [
       "       base  clouds.all  cod  coord.lat  coord.lon          dt       id  \\\n",
       "0  stations          20  200     -22.91     -43.21  1556331593  3451190   \n",
       "\n",
       "   main.humidity  main.pressure  main.temp  ...  sys.country  sys.id  \\\n",
       "0             83           1016      25.81  ...           BR    8429   \n",
       "\n",
       "  sys.message sys.sunrise  sys.sunset  sys.type  visibility  \\\n",
       "0      0.0051  1556269802  1556310661         1       10000   \n",
       "\n",
       "                                             weather  wind.deg  wind.speed  \n",
       "0  [{'id': 801, 'main': 'Clouds', 'description': ...        90         2.1  \n",
       "\n",
       "[1 rows x 23 columns]"
      ]
     },
     "execution_count": 6,
     "metadata": {},
     "output_type": "execute_result"
    }
   ],
   "source": [
    "df_data.head(5) # The problem here is that the variable \"Weather\" is still in a strange format: It is a list of dictionary. Check it out."
   ]
  },
  {
   "cell_type": "code",
   "execution_count": 7,
   "metadata": {
    "colab": {
     "base_uri": "https://localhost:8080/",
     "height": 80
    },
    "colab_type": "code",
    "collapsed": false,
    "deletable": true,
    "editable": true,
    "id": "LZBLjSbpjpZL",
    "outputId": "3e75d33b-0aa8-4bde-9e82-92671c468712"
   },
   "outputs": [
    {
     "data": {
      "text/html": [
       "<div>\n",
       "<style scoped>\n",
       "    .dataframe tbody tr th:only-of-type {\n",
       "        vertical-align: middle;\n",
       "    }\n",
       "\n",
       "    .dataframe tbody tr th {\n",
       "        vertical-align: top;\n",
       "    }\n",
       "\n",
       "    .dataframe thead th {\n",
       "        text-align: right;\n",
       "    }\n",
       "</style>\n",
       "<table border=\"1\" class=\"dataframe\">\n",
       "  <thead>\n",
       "    <tr style=\"text-align: right;\">\n",
       "      <th></th>\n",
       "      <th>description</th>\n",
       "      <th>icon</th>\n",
       "      <th>id</th>\n",
       "      <th>main</th>\n",
       "    </tr>\n",
       "  </thead>\n",
       "  <tbody>\n",
       "    <tr>\n",
       "      <th>0</th>\n",
       "      <td>few clouds</td>\n",
       "      <td>02n</td>\n",
       "      <td>801</td>\n",
       "      <td>Clouds</td>\n",
       "    </tr>\n",
       "  </tbody>\n",
       "</table>\n",
       "</div>"
      ],
      "text/plain": [
       "  description icon   id    main\n",
       "0  few clouds  02n  801  Clouds"
      ]
     },
     "execution_count": 7,
     "metadata": {},
     "output_type": "execute_result"
    }
   ],
   "source": [
    "# If we are acquainted with our data, we can tell Pandas what the variable \"Weather\" looks like:\n",
    "df_weather = pd.io.json.json_normalize(my_city.data, 'weather')\n",
    "df_weather # show data frame"
   ]
  },
  {
   "cell_type": "code",
   "execution_count": 8,
   "metadata": {
    "colab": {
     "base_uri": "https://localhost:8080/",
     "height": 824
    },
    "colab_type": "code",
    "collapsed": false,
    "deletable": true,
    "editable": true,
    "id": "aSfWBy8si7Ul",
    "outputId": "487f2fec-6737-43ac-c27e-a25e246fd0a9"
   },
   "outputs": [
    {
     "data": {
      "text/html": [
       "<div>\n",
       "<style scoped>\n",
       "    .dataframe tbody tr th:only-of-type {\n",
       "        vertical-align: middle;\n",
       "    }\n",
       "\n",
       "    .dataframe tbody tr th {\n",
       "        vertical-align: top;\n",
       "    }\n",
       "\n",
       "    .dataframe thead th {\n",
       "        text-align: right;\n",
       "    }\n",
       "</style>\n",
       "<table border=\"1\" class=\"dataframe\">\n",
       "  <thead>\n",
       "    <tr style=\"text-align: right;\">\n",
       "      <th>name</th>\n",
       "      <th>Rio de Janeiro</th>\n",
       "    </tr>\n",
       "  </thead>\n",
       "  <tbody>\n",
       "    <tr>\n",
       "      <th>base</th>\n",
       "      <td>stations</td>\n",
       "    </tr>\n",
       "    <tr>\n",
       "      <th>clouds.all</th>\n",
       "      <td>20</td>\n",
       "    </tr>\n",
       "    <tr>\n",
       "      <th>cod</th>\n",
       "      <td>200</td>\n",
       "    </tr>\n",
       "    <tr>\n",
       "      <th>coord.lat</th>\n",
       "      <td>-22.91</td>\n",
       "    </tr>\n",
       "    <tr>\n",
       "      <th>coord.lon</th>\n",
       "      <td>-43.21</td>\n",
       "    </tr>\n",
       "    <tr>\n",
       "      <th>dt</th>\n",
       "      <td>1556331593</td>\n",
       "    </tr>\n",
       "    <tr>\n",
       "      <th>id</th>\n",
       "      <td>3451190</td>\n",
       "    </tr>\n",
       "    <tr>\n",
       "      <th>main.humidity</th>\n",
       "      <td>83</td>\n",
       "    </tr>\n",
       "    <tr>\n",
       "      <th>main.pressure</th>\n",
       "      <td>1016</td>\n",
       "    </tr>\n",
       "    <tr>\n",
       "      <th>main.temp</th>\n",
       "      <td>25.81</td>\n",
       "    </tr>\n",
       "    <tr>\n",
       "      <th>main.temp_max</th>\n",
       "      <td>28</td>\n",
       "    </tr>\n",
       "    <tr>\n",
       "      <th>main.temp_min</th>\n",
       "      <td>24</td>\n",
       "    </tr>\n",
       "    <tr>\n",
       "      <th>sys.country</th>\n",
       "      <td>BR</td>\n",
       "    </tr>\n",
       "    <tr>\n",
       "      <th>sys.id</th>\n",
       "      <td>8429</td>\n",
       "    </tr>\n",
       "    <tr>\n",
       "      <th>sys.message</th>\n",
       "      <td>0.0051</td>\n",
       "    </tr>\n",
       "    <tr>\n",
       "      <th>sys.sunrise</th>\n",
       "      <td>1556269802</td>\n",
       "    </tr>\n",
       "    <tr>\n",
       "      <th>sys.sunset</th>\n",
       "      <td>1556310661</td>\n",
       "    </tr>\n",
       "    <tr>\n",
       "      <th>sys.type</th>\n",
       "      <td>1</td>\n",
       "    </tr>\n",
       "    <tr>\n",
       "      <th>visibility</th>\n",
       "      <td>10000</td>\n",
       "    </tr>\n",
       "    <tr>\n",
       "      <th>wind.deg</th>\n",
       "      <td>90</td>\n",
       "    </tr>\n",
       "    <tr>\n",
       "      <th>wind.speed</th>\n",
       "      <td>2.1</td>\n",
       "    </tr>\n",
       "    <tr>\n",
       "      <th>description</th>\n",
       "      <td>few clouds</td>\n",
       "    </tr>\n",
       "    <tr>\n",
       "      <th>icon</th>\n",
       "      <td>02n</td>\n",
       "    </tr>\n",
       "    <tr>\n",
       "      <th>id</th>\n",
       "      <td>801</td>\n",
       "    </tr>\n",
       "    <tr>\n",
       "      <th>main</th>\n",
       "      <td>Clouds</td>\n",
       "    </tr>\n",
       "  </tbody>\n",
       "</table>\n",
       "</div>"
      ],
      "text/plain": [
       "name          Rio de Janeiro\n",
       "base                stations\n",
       "clouds.all                20\n",
       "cod                      200\n",
       "coord.lat             -22.91\n",
       "coord.lon             -43.21\n",
       "dt                1556331593\n",
       "id                   3451190\n",
       "main.humidity             83\n",
       "main.pressure           1016\n",
       "main.temp              25.81\n",
       "main.temp_max             28\n",
       "main.temp_min             24\n",
       "sys.country               BR\n",
       "sys.id                  8429\n",
       "sys.message           0.0051\n",
       "sys.sunrise       1556269802\n",
       "sys.sunset        1556310661\n",
       "sys.type                   1\n",
       "visibility             10000\n",
       "wind.deg                  90\n",
       "wind.speed               2.1\n",
       "description       few clouds\n",
       "icon                     02n\n",
       "id                       801\n",
       "main                  Clouds"
      ]
     },
     "execution_count": 8,
     "metadata": {},
     "output_type": "execute_result"
    }
   ],
   "source": [
    "# Let's now merge both df_data and df_weather to have only one data frame with all data.\n",
    "df_all = pd.concat([df_data,df_weather], axis=1, sort=False)\n",
    "\n",
    "# Finally, we do not want the variable \"weather\" anymore, so let's remove them.\n",
    "df_all.drop(['weather'], axis=1, inplace=True)\n",
    "\n",
    "# Let's improve further this data frame by turning the column into index by transposing the data frame.\n",
    "df_all = df_all.set_index('name').T\n",
    "\n",
    "df_all"
   ]
  },
  {
   "cell_type": "code",
   "execution_count": 9,
   "metadata": {
    "colab": {},
    "colab_type": "code",
    "collapsed": true,
    "deletable": true,
    "editable": true,
    "id": "ZOWVz695lWoI"
   },
   "outputs": [],
   "source": [
    "'''\n",
    "Let's get these pieces of code and throw them in a function\n",
    "'''\n",
    "\n",
    "def weather_data_to_pandas_df(weather_json_obj):\n",
    "    df_data    = pd.io.json.json_normalize(weather_json_obj)\n",
    "    df_weather = pd.io.json.json_normalize(weather_json_obj, 'weather')\n",
    "    df_all     = pd.concat([df_data,df_weather], axis=1, sort=False)\n",
    "    df_all.drop(['weather'], axis=1, inplace=True)\n",
    "    df_all = df_all.set_index('name').T\n",
    "\n",
    "    return df_all"
   ]
  },
  {
   "cell_type": "code",
   "execution_count": 10,
   "metadata": {
    "colab": {
     "base_uri": "https://localhost:8080/",
     "height": 824
    },
    "colab_type": "code",
    "collapsed": false,
    "deletable": true,
    "editable": true,
    "id": "DbsKh0-GrwC4",
    "outputId": "9fa36288-011c-4964-a2fa-4e443e9a29be"
   },
   "outputs": [
    {
     "data": {
      "text/html": [
       "<div>\n",
       "<style scoped>\n",
       "    .dataframe tbody tr th:only-of-type {\n",
       "        vertical-align: middle;\n",
       "    }\n",
       "\n",
       "    .dataframe tbody tr th {\n",
       "        vertical-align: top;\n",
       "    }\n",
       "\n",
       "    .dataframe thead th {\n",
       "        text-align: right;\n",
       "    }\n",
       "</style>\n",
       "<table border=\"1\" class=\"dataframe\">\n",
       "  <thead>\n",
       "    <tr style=\"text-align: right;\">\n",
       "      <th>name</th>\n",
       "      <th>Shenzhen</th>\n",
       "    </tr>\n",
       "  </thead>\n",
       "  <tbody>\n",
       "    <tr>\n",
       "      <th>base</th>\n",
       "      <td>stations</td>\n",
       "    </tr>\n",
       "    <tr>\n",
       "      <th>clouds.all</th>\n",
       "      <td>20</td>\n",
       "    </tr>\n",
       "    <tr>\n",
       "      <th>cod</th>\n",
       "      <td>200</td>\n",
       "    </tr>\n",
       "    <tr>\n",
       "      <th>coord.lat</th>\n",
       "      <td>22.54</td>\n",
       "    </tr>\n",
       "    <tr>\n",
       "      <th>coord.lon</th>\n",
       "      <td>114.05</td>\n",
       "    </tr>\n",
       "    <tr>\n",
       "      <th>dt</th>\n",
       "      <td>1556332228</td>\n",
       "    </tr>\n",
       "    <tr>\n",
       "      <th>id</th>\n",
       "      <td>1795565</td>\n",
       "    </tr>\n",
       "    <tr>\n",
       "      <th>main.humidity</th>\n",
       "      <td>69</td>\n",
       "    </tr>\n",
       "    <tr>\n",
       "      <th>main.pressure</th>\n",
       "      <td>1012</td>\n",
       "    </tr>\n",
       "    <tr>\n",
       "      <th>main.temp</th>\n",
       "      <td>26.24</td>\n",
       "    </tr>\n",
       "    <tr>\n",
       "      <th>main.temp_max</th>\n",
       "      <td>28</td>\n",
       "    </tr>\n",
       "    <tr>\n",
       "      <th>main.temp_min</th>\n",
       "      <td>25</td>\n",
       "    </tr>\n",
       "    <tr>\n",
       "      <th>sys.country</th>\n",
       "      <td>CN</td>\n",
       "    </tr>\n",
       "    <tr>\n",
       "      <th>sys.id</th>\n",
       "      <td>9630</td>\n",
       "    </tr>\n",
       "    <tr>\n",
       "      <th>sys.message</th>\n",
       "      <td>0.0055</td>\n",
       "    </tr>\n",
       "    <tr>\n",
       "      <th>sys.sunrise</th>\n",
       "      <td>1556315673</td>\n",
       "    </tr>\n",
       "    <tr>\n",
       "      <th>sys.sunset</th>\n",
       "      <td>1556362095</td>\n",
       "    </tr>\n",
       "    <tr>\n",
       "      <th>sys.type</th>\n",
       "      <td>1</td>\n",
       "    </tr>\n",
       "    <tr>\n",
       "      <th>visibility</th>\n",
       "      <td>10000</td>\n",
       "    </tr>\n",
       "    <tr>\n",
       "      <th>wind.deg</th>\n",
       "      <td>100</td>\n",
       "    </tr>\n",
       "    <tr>\n",
       "      <th>wind.speed</th>\n",
       "      <td>7</td>\n",
       "    </tr>\n",
       "    <tr>\n",
       "      <th>description</th>\n",
       "      <td>few clouds</td>\n",
       "    </tr>\n",
       "    <tr>\n",
       "      <th>icon</th>\n",
       "      <td>02d</td>\n",
       "    </tr>\n",
       "    <tr>\n",
       "      <th>id</th>\n",
       "      <td>801</td>\n",
       "    </tr>\n",
       "    <tr>\n",
       "      <th>main</th>\n",
       "      <td>Clouds</td>\n",
       "    </tr>\n",
       "  </tbody>\n",
       "</table>\n",
       "</div>"
      ],
      "text/plain": [
       "name             Shenzhen\n",
       "base             stations\n",
       "clouds.all             20\n",
       "cod                   200\n",
       "coord.lat           22.54\n",
       "coord.lon          114.05\n",
       "dt             1556332228\n",
       "id                1795565\n",
       "main.humidity          69\n",
       "main.pressure        1012\n",
       "main.temp           26.24\n",
       "main.temp_max          28\n",
       "main.temp_min          25\n",
       "sys.country            CN\n",
       "sys.id               9630\n",
       "sys.message        0.0055\n",
       "sys.sunrise    1556315673\n",
       "sys.sunset     1556362095\n",
       "sys.type                1\n",
       "visibility          10000\n",
       "wind.deg              100\n",
       "wind.speed              7\n",
       "description    few clouds\n",
       "icon                  02d\n",
       "id                    801\n",
       "main               Clouds"
      ]
     },
     "execution_count": 10,
     "metadata": {},
     "output_type": "execute_result"
    }
   ],
   "source": [
    "# usage\n",
    "weather_data_to_pandas_df(weather_vr02('Shenzhen').data)"
   ]
  },
  {
   "cell_type": "code",
   "execution_count": 11,
   "metadata": {
    "colab": {
     "base_uri": "https://localhost:8080/",
     "height": 824
    },
    "colab_type": "code",
    "collapsed": false,
    "deletable": true,
    "editable": true,
    "id": "ydKqcgryryhk",
    "outputId": "150a69d7-dc96-42ce-d7ae-280cbdd47e77"
   },
   "outputs": [
    {
     "data": {
      "text/html": [
       "<div>\n",
       "<style scoped>\n",
       "    .dataframe tbody tr th:only-of-type {\n",
       "        vertical-align: middle;\n",
       "    }\n",
       "\n",
       "    .dataframe tbody tr th {\n",
       "        vertical-align: top;\n",
       "    }\n",
       "\n",
       "    .dataframe thead th {\n",
       "        text-align: right;\n",
       "    }\n",
       "</style>\n",
       "<table border=\"1\" class=\"dataframe\">\n",
       "  <thead>\n",
       "    <tr style=\"text-align: right;\">\n",
       "      <th>name</th>\n",
       "      <th>Rio de Janeiro</th>\n",
       "      <th>Shenzhen</th>\n",
       "      <th>Amsterdam</th>\n",
       "    </tr>\n",
       "  </thead>\n",
       "  <tbody>\n",
       "    <tr>\n",
       "      <th>base</th>\n",
       "      <td>stations</td>\n",
       "      <td>stations</td>\n",
       "      <td>stations</td>\n",
       "    </tr>\n",
       "    <tr>\n",
       "      <th>clouds.all</th>\n",
       "      <td>20</td>\n",
       "      <td>20</td>\n",
       "      <td>0</td>\n",
       "    </tr>\n",
       "    <tr>\n",
       "      <th>cod</th>\n",
       "      <td>200</td>\n",
       "      <td>200</td>\n",
       "      <td>200</td>\n",
       "    </tr>\n",
       "    <tr>\n",
       "      <th>coord.lat</th>\n",
       "      <td>-22.91</td>\n",
       "      <td>22.54</td>\n",
       "      <td>52.37</td>\n",
       "    </tr>\n",
       "    <tr>\n",
       "      <th>coord.lon</th>\n",
       "      <td>-43.21</td>\n",
       "      <td>114.05</td>\n",
       "      <td>4.89</td>\n",
       "    </tr>\n",
       "    <tr>\n",
       "      <th>dt</th>\n",
       "      <td>1556331593</td>\n",
       "      <td>1556332228</td>\n",
       "      <td>1556332156</td>\n",
       "    </tr>\n",
       "    <tr>\n",
       "      <th>id</th>\n",
       "      <td>3451190</td>\n",
       "      <td>1795565</td>\n",
       "      <td>2759794</td>\n",
       "    </tr>\n",
       "    <tr>\n",
       "      <th>main.humidity</th>\n",
       "      <td>83</td>\n",
       "      <td>69</td>\n",
       "      <td>76</td>\n",
       "    </tr>\n",
       "    <tr>\n",
       "      <th>main.pressure</th>\n",
       "      <td>1016</td>\n",
       "      <td>1012</td>\n",
       "      <td>1010</td>\n",
       "    </tr>\n",
       "    <tr>\n",
       "      <th>main.temp</th>\n",
       "      <td>25.81</td>\n",
       "      <td>26.24</td>\n",
       "      <td>10.29</td>\n",
       "    </tr>\n",
       "    <tr>\n",
       "      <th>main.temp_max</th>\n",
       "      <td>28</td>\n",
       "      <td>28</td>\n",
       "      <td>11.67</td>\n",
       "    </tr>\n",
       "    <tr>\n",
       "      <th>main.temp_min</th>\n",
       "      <td>24</td>\n",
       "      <td>25</td>\n",
       "      <td>8.89</td>\n",
       "    </tr>\n",
       "    <tr>\n",
       "      <th>sys.country</th>\n",
       "      <td>BR</td>\n",
       "      <td>CN</td>\n",
       "      <td>NL</td>\n",
       "    </tr>\n",
       "    <tr>\n",
       "      <th>sys.id</th>\n",
       "      <td>8429</td>\n",
       "      <td>9630</td>\n",
       "      <td>1524</td>\n",
       "    </tr>\n",
       "    <tr>\n",
       "      <th>sys.message</th>\n",
       "      <td>0.0051</td>\n",
       "      <td>0.0055</td>\n",
       "      <td>0.0068</td>\n",
       "    </tr>\n",
       "    <tr>\n",
       "      <th>sys.sunrise</th>\n",
       "      <td>1556269802</td>\n",
       "      <td>1556315673</td>\n",
       "      <td>1556338685</td>\n",
       "    </tr>\n",
       "    <tr>\n",
       "      <th>sys.sunset</th>\n",
       "      <td>1556310661</td>\n",
       "      <td>1556362095</td>\n",
       "      <td>1556391474</td>\n",
       "    </tr>\n",
       "    <tr>\n",
       "      <th>sys.type</th>\n",
       "      <td>1</td>\n",
       "      <td>1</td>\n",
       "      <td>1</td>\n",
       "    </tr>\n",
       "    <tr>\n",
       "      <th>visibility</th>\n",
       "      <td>10000</td>\n",
       "      <td>10000</td>\n",
       "      <td>10000</td>\n",
       "    </tr>\n",
       "    <tr>\n",
       "      <th>wind.deg</th>\n",
       "      <td>90</td>\n",
       "      <td>100</td>\n",
       "      <td>180</td>\n",
       "    </tr>\n",
       "    <tr>\n",
       "      <th>wind.speed</th>\n",
       "      <td>2.1</td>\n",
       "      <td>7</td>\n",
       "      <td>5.1</td>\n",
       "    </tr>\n",
       "    <tr>\n",
       "      <th>description</th>\n",
       "      <td>few clouds</td>\n",
       "      <td>few clouds</td>\n",
       "      <td>clear sky</td>\n",
       "    </tr>\n",
       "    <tr>\n",
       "      <th>icon</th>\n",
       "      <td>02n</td>\n",
       "      <td>02d</td>\n",
       "      <td>01n</td>\n",
       "    </tr>\n",
       "    <tr>\n",
       "      <th>id</th>\n",
       "      <td>801</td>\n",
       "      <td>801</td>\n",
       "      <td>800</td>\n",
       "    </tr>\n",
       "    <tr>\n",
       "      <th>main</th>\n",
       "      <td>Clouds</td>\n",
       "      <td>Clouds</td>\n",
       "      <td>Clear</td>\n",
       "    </tr>\n",
       "  </tbody>\n",
       "</table>\n",
       "</div>"
      ],
      "text/plain": [
       "name          Rio de Janeiro    Shenzhen   Amsterdam\n",
       "base                stations    stations    stations\n",
       "clouds.all                20          20           0\n",
       "cod                      200         200         200\n",
       "coord.lat             -22.91       22.54       52.37\n",
       "coord.lon             -43.21      114.05        4.89\n",
       "dt                1556331593  1556332228  1556332156\n",
       "id                   3451190     1795565     2759794\n",
       "main.humidity             83          69          76\n",
       "main.pressure           1016        1012        1010\n",
       "main.temp              25.81       26.24       10.29\n",
       "main.temp_max             28          28       11.67\n",
       "main.temp_min             24          25        8.89\n",
       "sys.country               BR          CN          NL\n",
       "sys.id                  8429        9630        1524\n",
       "sys.message           0.0051      0.0055      0.0068\n",
       "sys.sunrise       1556269802  1556315673  1556338685\n",
       "sys.sunset        1556310661  1556362095  1556391474\n",
       "sys.type                   1           1           1\n",
       "visibility             10000       10000       10000\n",
       "wind.deg                  90         100         180\n",
       "wind.speed               2.1           7         5.1\n",
       "description       few clouds  few clouds   clear sky\n",
       "icon                     02n         02d         01n\n",
       "id                       801         801         800\n",
       "main                  Clouds      Clouds       Clear"
      ]
     },
     "execution_count": 11,
     "metadata": {},
     "output_type": "execute_result"
    }
   ],
   "source": [
    "# We can actually get the weather information for many cities at the same time.\n",
    "\n",
    "dfs = []\n",
    "for city_name in ['Rio de Janeiro', 'Shenzhen', 'Amsterdam']:\n",
    "    df = weather_data_to_pandas_df(weather_vr02(city_name).data)\n",
    "    dfs.append(df)\n",
    "\n",
    "df_cities = pd.concat(dfs, axis=1)\n",
    "df_cities"
   ]
  },
  {
   "cell_type": "code",
   "execution_count": 29,
   "metadata": {
    "colab": {
     "base_uri": "https://localhost:8080/",
     "height": 360
    },
    "colab_type": "code",
    "collapsed": false,
    "deletable": true,
    "editable": true,
    "id": "Ad68rkvxu4qt",
    "outputId": "77961540-03bb-433d-9e69-2f65dc0f1b9c"
   },
   "outputs": [
    {
     "data": {
      "text/plain": [
       "<matplotlib.axes._subplots.AxesSubplot at 0x191774a1780>"
      ]
     },
     "execution_count": 29,
     "metadata": {},
     "output_type": "execute_result"
    },
    {
     "data": {
      "image/png": "[encoded data removed]",
      "text/plain": [
       "<Figure size 432x288 with 1 Axes>"
      ]
     },
     "metadata": {
      "needs_background": "light"
     },
     "output_type": "display_data"
    }
   ],
   "source": [
    "df_cities.loc['main.temp'].plot.bar()"
   ]
  },
  {
   "cell_type": "markdown",
   "metadata": {
    "colab_type": "text",
    "deletable": true,
    "editable": true,
    "id": "v2LVWCirw9lb"
   },
   "source": [
    "**Assignment 02: Data exploration**\n",
    "\n",
    "Using the example above, do the following:\n",
    "\n",
    "**1. Add other 3 cities to the data frame (tip: use the 'for' loop as shown above).**\n",
    "\n",
    "**2. Make a figure showing the humidity of all cities.**\n",
    "\n",
    "**3. Remove one of the cities from your data frame.**\n",
    "\n",
    "**4. Bonus task: add a new row providing information on what to dress based on the temperature.**\n",
    "\n",
    "\n",
    "\n"
   ]
  },
  {
   "cell_type": "code",
   "execution_count": 16,
   "metadata": {
    "colab": {
     "base_uri": "https://localhost:8080/",
     "height": 80
    },
    "colab_type": "code",
    "collapsed": false,
    "deletable": true,
    "editable": true,
    "id": "41tkev4Jztzw",
    "outputId": "516ae275-f0bc-4a28-e948-cab0833c124c"
   },
   "outputs": [
    {
     "data": {
      "text/html": [
       "<div>\n",
       "<style scoped>\n",
       "    .dataframe tbody tr th:only-of-type {\n",
       "        vertical-align: middle;\n",
       "    }\n",
       "\n",
       "    .dataframe tbody tr th {\n",
       "        vertical-align: top;\n",
       "    }\n",
       "\n",
       "    .dataframe thead th {\n",
       "        text-align: right;\n",
       "    }\n",
       "</style>\n",
       "<table border=\"1\" class=\"dataframe\">\n",
       "  <thead>\n",
       "    <tr style=\"text-align: right;\">\n",
       "      <th></th>\n",
       "      <th>A</th>\n",
       "      <th>B</th>\n",
       "      <th>C</th>\n",
       "    </tr>\n",
       "  </thead>\n",
       "  <tbody>\n",
       "    <tr>\n",
       "      <th>first_row</th>\n",
       "      <td>1</td>\n",
       "      <td>20</td>\n",
       "      <td>30</td>\n",
       "    </tr>\n",
       "  </tbody>\n",
       "</table>\n",
       "</div>"
      ],
      "text/plain": [
       "           A   B   C\n",
       "first_row  1  20  30"
      ]
     },
     "execution_count": 16,
     "metadata": {},
     "output_type": "execute_result"
    }
   ],
   "source": [
    "'''\n",
    "Tips for task #4\n",
    "'''\n",
    "\n",
    "# 1) adding a new index row in Pandas\n",
    "\n",
    "df = pd.DataFrame({'A':1,'B':20,'C':30}, index=['first_row']) # creating a generic data frame\n",
    "df\n"
   ]
  },
  {
   "cell_type": "code",
   "execution_count": 17,
   "metadata": {
    "colab": {
     "base_uri": "https://localhost:8080/",
     "height": 111
    },
    "colab_type": "code",
    "collapsed": false,
    "deletable": true,
    "editable": true,
    "id": "HYje81eHvR7A",
    "outputId": "b839a184-a201-4570-f871-b89f3e69fd14"
   },
   "outputs": [
    {
     "data": {
      "text/html": [
       "<div>\n",
       "<style scoped>\n",
       "    .dataframe tbody tr th:only-of-type {\n",
       "        vertical-align: middle;\n",
       "    }\n",
       "\n",
       "    .dataframe tbody tr th {\n",
       "        vertical-align: top;\n",
       "    }\n",
       "\n",
       "    .dataframe thead th {\n",
       "        text-align: right;\n",
       "    }\n",
       "</style>\n",
       "<table border=\"1\" class=\"dataframe\">\n",
       "  <thead>\n",
       "    <tr style=\"text-align: right;\">\n",
       "      <th></th>\n",
       "      <th>A</th>\n",
       "      <th>B</th>\n",
       "      <th>C</th>\n",
       "    </tr>\n",
       "  </thead>\n",
       "  <tbody>\n",
       "    <tr>\n",
       "      <th>first_row</th>\n",
       "      <td>1</td>\n",
       "      <td>20</td>\n",
       "      <td>30</td>\n",
       "    </tr>\n",
       "    <tr>\n",
       "      <th>new_row</th>\n",
       "      <td>4</td>\n",
       "      <td>5</td>\n",
       "      <td>6</td>\n",
       "    </tr>\n",
       "  </tbody>\n",
       "</table>\n",
       "</div>"
      ],
      "text/plain": [
       "           A   B   C\n",
       "first_row  1  20  30\n",
       "new_row    4   5   6"
      ]
     },
     "execution_count": 17,
     "metadata": {},
     "output_type": "execute_result"
    }
   ],
   "source": [
    "df.loc['new_row'] = [4,5,6] # I just picked three values - remember that it has to have 3 columns to match the shape of the data frame\n",
    "df"
   ]
  },
  {
   "cell_type": "code",
   "execution_count": 27,
   "metadata": {
    "colab": {},
    "colab_type": "code",
    "collapsed": false,
    "deletable": true,
    "editable": true,
    "id": "AmoNLQe41eAB"
   },
   "outputs": [
    {
     "name": "stdout",
     "output_type": "stream",
     "text": [
      "0 low value\n",
      "1 mid value\n",
      "2 high value\n"
     ]
    }
   ],
   "source": [
    "df.loc['row_string'] = [None,None,None] # create an empty row to be populated in the following loop.\n",
    "i = 0 # index of the new row. Note that its value changes inside the loop.\n",
    "for values in df.loc['first_row']: # evaluating the values of the first row.\n",
    "    if 1 <= values <= 10:\n",
    "        string = 'low value'\n",
    "        df.loc['row_string'][i] = string\n",
    "        print(i,string)\n",
    "    elif 10 <= values <= 20:\n",
    "        string = 'mid value'\n",
    "        df.loc['row_string'][i] = string\n",
    "        print(i,string)\n",
    "    elif 20 <= values <= 30:\n",
    "        string = 'high value'\n",
    "        df.loc['row_string'][i] = string\n",
    "        print(i,string)\n",
    "        \n",
    "    i += 1"
   ]
  },
  {
   "cell_type": "code",
   "execution_count": 28,
   "metadata": {
    "colab": {},
    "colab_type": "code",
    "collapsed": false,
    "deletable": true,
    "editable": true,
    "id": "OSfQP5JA3Ywp"
   },
   "outputs": [
    {
     "data": {
      "text/html": [
       "<div>\n",
       "<style scoped>\n",
       "    .dataframe tbody tr th:only-of-type {\n",
       "        vertical-align: middle;\n",
       "    }\n",
       "\n",
       "    .dataframe tbody tr th {\n",
       "        vertical-align: top;\n",
       "    }\n",
       "\n",
       "    .dataframe thead th {\n",
       "        text-align: right;\n",
       "    }\n",
       "</style>\n",
       "<table border=\"1\" class=\"dataframe\">\n",
       "  <thead>\n",
       "    <tr style=\"text-align: right;\">\n",
       "      <th></th>\n",
       "      <th>A</th>\n",
       "      <th>B</th>\n",
       "      <th>C</th>\n",
       "    </tr>\n",
       "  </thead>\n",
       "  <tbody>\n",
       "    <tr>\n",
       "      <th>first_row</th>\n",
       "      <td>1</td>\n",
       "      <td>20</td>\n",
       "      <td>30</td>\n",
       "    </tr>\n",
       "    <tr>\n",
       "      <th>new_row</th>\n",
       "      <td>4</td>\n",
       "      <td>5</td>\n",
       "      <td>6</td>\n",
       "    </tr>\n",
       "    <tr>\n",
       "      <th>row_string</th>\n",
       "      <td>low value</td>\n",
       "      <td>mid value</td>\n",
       "      <td>high value</td>\n",
       "    </tr>\n",
       "  </tbody>\n",
       "</table>\n",
       "</div>"
      ],
      "text/plain": [
       "                    A          B           C\n",
       "first_row           1         20          30\n",
       "new_row             4          5           6\n",
       "row_string  low value  mid value  high value"
      ]
     },
     "execution_count": 28,
     "metadata": {},
     "output_type": "execute_result"
    }
   ],
   "source": [
    "df"
   ]
  },
  {
   "cell_type": "code",
   "execution_count": null,
   "metadata": {
    "collapsed": true
   },
   "outputs": [],
   "source": []
  }
 ],
 "metadata": {
  "colab": {
   "collapsed_sections": [],
   "name": "WomenInPython_specialMay1st.ipynb",
   "provenance": [],
   "version": "0.3.2"
  },
  "kernelspec": {
   "display_name": "Python 3",
   "language": "python",
   "name": "python3"
  },
  "language_info": {
   "codemirror_mode": {
    "name": "ipython",
    "version": 3
   },
   "file_extension": ".py",
   "mimetype": "text/x-python",
   "name": "python",
   "nbconvert_exporter": "python",
   "pygments_lexer": "ipython3",
   "version": "3.7.1"
  }
 },
 "nbformat": 4,
 "nbformat_minor": 1
}
