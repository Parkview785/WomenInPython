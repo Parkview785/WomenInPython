{
 "cells": [
  {
   "cell_type": "markdown",
   "metadata": {},
   "source": [
    "# Convervation of momentum\n",
    "# $$m_{1}v_{1i} + m_{2}v_{2i} = m_{1}v_{1f} + m_{2}v_{2f} = const$$\n",
    "# Conservation of energy\n",
    "# $$\\frac{1}{2}m_{1}v_{1i}^{2} + \\frac{1}{2}m_{2}v_{2i}^{2} = \\frac{1}{2}m_{1}v_{1f}^{2} + \\frac{1}{2}m_{2}v_{2f}^{2} = const$$"
   ]
  },
  {
   "cell_type": "markdown",
   "metadata": {},
   "source": [
    "## Demonstration\n",
    "## $$ \\frac{m_{1}}{m_{2}}=\\frac{ v_{1i} - v_{1f} }{ v_{2f} - v_{2i} } = \\frac{ v_{1i}^{2} - v_{1f}^{2} }{ v_{2f}^{2} - v_{2i}^{2} }$$"
   ]
  },
  {
   "cell_type": "markdown",
   "metadata": {},
   "source": [
    "## $$ \\frac{m_{1}}{m_{2}}=\\frac{ v_{1i} - v_{1f} }{ v_{1i}^{2} - v_{1f}^{2} } = \\frac{ v_{2f} - v_{2i} }{ v_{2f}^{2} - v_{2i}^{2} }$$"
   ]
  },
  {
   "cell_type": "markdown",
   "metadata": {},
   "source": [
    "## $$ \\frac{m_{1}}{m_{2}}=\\frac{ v_{1i} - v_{1f} }{ (v_{1i} - v_{1f})(v_{1i} + v_{1f}) } = \\frac{ v_{2f} - v_{2i} }{ (v_{2f} - v_{2i})(v_{2f} + v_{2i}) }$$"
   ]
  },
  {
   "cell_type": "markdown",
   "metadata": {},
   "source": [
    "## $$ m_{1}(v_{1i} + v_{1f}) =  m_{2}(v_{2i} + v_{2f})$$"
   ]
  },
  {
   "cell_type": "markdown",
   "metadata": {},
   "source": [
    "## Set of two equations and two unknowns\n",
    "## $$ m_{1}v_{1i} + m_{1}v_{1f} =  m_{2}v_{2i} + m_{2}v_{2f}$$\n",
    "## $$ v_{1i} - v_{1f} =  v_{2f} - v_{2i} \\mbox{  (trivial solution)}$$"
   ]
  },
  {
   "cell_type": "markdown",
   "metadata": {},
   "source": [
    "## making $$ v_{2f} =   v_{1i} - v_{1f} + v_{2i}$$\n",
    "## and replacing in $$ m_{1}v_{1i} + m_{1}v_{1f} =  m_{2}v_{2i} + m_{2}v_{2f}$$"
   ]
  },
  {
   "cell_type": "markdown",
   "metadata": {},
   "source": [
    "## we got $$ m_{1}v_{1i} + m_{1}v_{1f} =  m_{2}v_{2i} + m_{2}(v_{1i} - v_{1f} + v_{2i}) \\rightarrow $$\n",
    "## $$ m_{1}v_{1i} + m_{1}v_{1f} =  m_{2}v_{2i} + m_{2}v_{1i} - m_{2}v_{1f} + m_{2}v_{2i} \\rightarrow $$\n",
    "## $$ m_{1}v_{1f} + m_{2}v_{1f} =  2m_{2}v_{2i} + m_{2}v_{1i} - m_{1}v_{1i} \\rightarrow $$\n",
    "## $$ (m_{1} + m_{2})v_{1f} =  2m_{2}v_{2i} + (m_{2} - m_{1})v_{1i} \\rightarrow $$"
   ]
  },
  {
   "cell_type": "markdown",
   "metadata": {},
   "source": [
    "## finally\n",
    "## $$ v_{1f} =  \\frac{ 2m_{2} }{ m_{1} + m_{2} }v_{2i} + \\frac{ m_{1} - m_{2} }{ m_{1} + m_{2} }v_{1i} $$"
   ]
  },
  {
   "cell_type": "markdown",
   "metadata": {},
   "source": [
    "## similarly\n",
    "## $$ v_{2f} =  \\frac{ 2m_{1} }{ m_{1} + m_{2} }v_{1i} + \\frac{ m_{2} - m_{1} }{ m_{1} + m_{2} }v_{2i} $$"
   ]
  },
  {
   "cell_type": "code",
   "execution_count": 1,
   "metadata": {},
   "outputs": [],
   "source": [
    "import numpy as np\n",
    "import matplotlib.pyplot as plt"
   ]
  },
  {
   "cell_type": "code",
   "execution_count": 2,
   "metadata": {},
   "outputs": [
    {
     "ename": "NameError",
     "evalue": "name 'm1' is not defined",
     "output_type": "error",
     "traceback": [
      "\u001b[0;31m---------------------------------------------------------------------------\u001b[0m",
      "\u001b[0;31mNameError\u001b[0m                                 Traceback (most recent call last)",
      "\u001b[0;32m<ipython-input-2-db351edc8dd2>\u001b[0m in \u001b[0;36m<module>\u001b[0;34m()\u001b[0m\n\u001b[1;32m     10\u001b[0m     \u001b[0;32mreturn\u001b[0m \u001b[0;34m[\u001b[0m\u001b[0mv1_after_collision_b1_b2\u001b[0m\u001b[0;34m,\u001b[0m \u001b[0mv2_after_collision_b1_b2\u001b[0m\u001b[0;34m]\u001b[0m\u001b[0;34m\u001b[0m\u001b[0;34m\u001b[0m\u001b[0m\n\u001b[1;32m     11\u001b[0m \u001b[0;34m\u001b[0m\u001b[0m\n\u001b[0;32m---> 12\u001b[0;31m \u001b[0mv1_after_collision_b1_b2\u001b[0m\u001b[0;34m,\u001b[0m \u001b[0mv2_after_collision_b1_b2\u001b[0m \u001b[0;34m=\u001b[0m \u001b[0mcollision_b1_b2\u001b[0m\u001b[0;34m(\u001b[0m \u001b[0mm1\u001b[0m\u001b[0;34m,\u001b[0m \u001b[0mm2\u001b[0m\u001b[0;34m,\u001b[0m \u001b[0mv1_init\u001b[0m\u001b[0;34m,\u001b[0m \u001b[0mv2_init\u001b[0m \u001b[0;34m)\u001b[0m\u001b[0;34m\u001b[0m\u001b[0;34m\u001b[0m\u001b[0m\n\u001b[0m\u001b[1;32m     13\u001b[0m \u001b[0;34m\u001b[0m\u001b[0m\n\u001b[1;32m     14\u001b[0m \u001b[0;32mdef\u001b[0m \u001b[0mcollision_b1_wall\u001b[0m\u001b[0;34m(\u001b[0m \u001b[0mv1_after_collision_b1_b2\u001b[0m\u001b[0;34m,\u001b[0m \u001b[0mv2_after_collision_b1_b2\u001b[0m \u001b[0;34m)\u001b[0m\u001b[0;34m:\u001b[0m\u001b[0;34m\u001b[0m\u001b[0;34m\u001b[0m\u001b[0m\n",
      "\u001b[0;31mNameError\u001b[0m: name 'm1' is not defined"
     ]
    }
   ],
   "source": [
    "def collision_b1_b2( m1, m2, v1_init, v2_init ):\n",
    "\n",
    "    m1_plus_m2  = m1 + m2\n",
    "    m1_minus_m2 = m1 - m2\n",
    "    m2_minus_m1 = m2 - m1\n",
    "\n",
    "    v1_after_collision_b1_b2 = ( 2*m2 / m1_plus_m2 )*v2_init + ( m1_minus_m2 / m1_plus_m2 )*v1_init\n",
    "    v2_after_collision_b1_b2 = ( 2*m1 / m1_plus_m2 )*v1_init + ( m2_minus_m1 / m1_plus_m2 )*v2_init\n",
    "\n",
    "    return [v1_after_collision_b1_b2, v2_after_collision_b1_b2]\n",
    "\n",
    "v1_after_collision_b1_b2, v2_after_collision_b1_b2 = collision_b1_b2( m1, m2, v1_init, v2_init )\n",
    "\n",
    "def collision_b1_wall( v1_after_collision_b1_b2, v2_after_collision_b1_b2 ):\n",
    "    v1_after_collision_b1_wall = -v1_after_collision_b1_b2\n",
    "    v2_after_collision_b1_wall = v2_after_collision_b1_b2\n",
    "    \n",
    "    return [v1_after_collision_b1_wall, v2_after_collision_b1_wall]"
   ]
  },
  {
   "cell_type": "code",
   "execution_count": null,
   "metadata": {
    "scrolled": true
   },
   "outputs": [],
   "source": [
    "v2_init      = 0\n",
    "v1_init      = -1\n",
    "\n",
    "d           = 2\n",
    "m2          = 1\n",
    "m1          = 100**(d-1)\n",
    "\n",
    "n_collisions = 0\n",
    "v1_v2        = []\n",
    "# print('initial condition: ',v1_init,v2_init)\n",
    "\n",
    "while 1:\n",
    "    \n",
    "    v1_v2.append([v1_init,v2_init])\n",
    "\n",
    "    v1, v2        = collision_b1_b2(m1, m2, v1_init,v2_init)\n",
    "    n_collisions += 1\n",
    "    v1_v2.append([v1,v2])\n",
    "    \n",
    "    if v2 < 0.:\n",
    "        v2_init, v1_init = collision_b1_wall( v2, v1 )\n",
    "        n_collisions += 1\n",
    "    else:\n",
    "        print('#collisions = ',n_collisions,'\\n', '\\u03C0 = ', np.pi)\n",
    "        break\n",
    "        \n",
    "    if abs(v2_init) < abs(v1_init):\n",
    "        print('#collisions = ',n_collisions,'\\n', '\\u03C0 = ', np.pi)\n",
    "        break\n",
    "\n",
    "v1_v2 = np.asarray(v1_v2)"
   ]
  },
  {
   "cell_type": "code",
   "execution_count": null,
   "metadata": {},
   "outputs": [],
   "source": [
    "print(v1_v2.shape)"
   ]
  },
  {
   "cell_type": "code",
   "execution_count": null,
   "metadata": {},
   "outputs": [],
   "source": [
    "radius   = (np.sqrt(m1)*v1_v2[:,0]).max()\n",
    "x_circle = radius*np.cos( np.linspace(0,2*np.pi, v1_v2.size) ) \n",
    "y_circle = radius*np.sin( np.linspace(0,2*np.pi, v1_v2.size) ) "
   ]
  },
  {
   "cell_type": "code",
   "execution_count": null,
   "metadata": {},
   "outputs": [],
   "source": [
    "xlimit = [(np.sqrt(m1)*v1_v2[:,0]).min().round(), (np.sqrt(m1)*v1_v2[:,0]).max().round()]\n",
    "ylimit = [(np.sqrt(m2)*v1_v2[:,1]).min().round(), (np.sqrt(m2)*v1_v2[:,1]).max().round()]\n",
    "\n",
    "def set_axis(ax):\n",
    "    fs = 20\n",
    "    ax.spines['right'].set_color('none')\n",
    "    ax.spines['top'].set_color('none')\n",
    "    ax.xaxis.set_ticks_position('bottom')\n",
    "    ax.spines['bottom'].set_position(('data', 0))\n",
    "    ax.yaxis.set_ticks_position('left')\n",
    "    ax.spines['left'].set_position(('data', 0))\n",
    "    \n",
    "    ax.set_xticks([xlimit[0],0,xlimit[1]])\n",
    "    ax.set_yticks([ylimit[0],0,ylimit[1]])\n",
    "    \n",
    "    ax.yaxis.set_label_coords(0.5,1.1)\n",
    "    ax.xaxis.set_label_coords(1.1,0.5)\n",
    "        \n",
    "    ax.set_xlabel(r\"$x=\\sqrt{m_{1}}v_{1}$\", fontsize=fs)\n",
    "    ax.set_ylabel(r\"$y=\\sqrt{m_{2}}v_{2}$\", fontsize=fs)\n",
    "    ax.tick_params(labelsize=fs)"
   ]
  },
  {
   "cell_type": "markdown",
   "metadata": {},
   "source": [
    "### Phase diagram"
   ]
  },
  {
   "cell_type": "code",
   "execution_count": null,
   "metadata": {},
   "outputs": [],
   "source": [
    "fig, ax = plt.subplots(figsize=(10,10))\n",
    "\n",
    "ax.plot(x_circle,y_circle, '-k', lw=5, alpha=.5)\n",
    "\n",
    "ax.plot(np.sqrt(m1)*v1_v2[:,0],np.sqrt(m2)*v1_v2[:,1],'or',ms=8)\n",
    "ax.plot(np.sqrt(m1)*v1_v2[:,0],np.sqrt(m2)*v1_v2[:,1],'--b')\n",
    "\n",
    "# ax.plot(np.sqrt(m2)*v1_v2[::2,1],np.sqrt(m1)*v1_v2[::2,0],'--k')\n",
    "# ax.plot(np.sqrt(m2)*v1_v2[1::2,1],np.sqrt(m1)*v1_v2[1::2,0],'--k')\n",
    "\n",
    "set_axis(ax)"
   ]
  },
  {
   "cell_type": "code",
   "execution_count": null,
   "metadata": {},
   "outputs": [],
   "source": []
  }
 ],
 "metadata": {
  "kernelspec": {
   "display_name": "Python 3",
   "language": "python",
   "name": "python3"
  },
  "language_info": {
   "codemirror_mode": {
    "name": "ipython",
    "version": 3
   },
   "file_extension": ".py",
   "mimetype": "text/x-python",
   "name": "python",
   "nbconvert_exporter": "python",
   "pygments_lexer": "ipython3",
   "version": "3.6.7"
  }
 },
 "nbformat": 4,
 "nbformat_minor": 2
}
